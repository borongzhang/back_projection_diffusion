{
 "cells": [
  {
   "cell_type": "code",
   "execution_count": 1,
   "id": "5bfc5c2f-5ee1-42dc-9fa1-8d8b32b15eb5",
   "metadata": {},
   "outputs": [],
   "source": [
    "import numpy as np\n",
    "import jax\n",
    "import jax.numpy as jnp\n",
    "import matplotlib.pyplot as plt\n",
    "\n",
    "import h5py\n",
    "import natsort\n"
   ]
  },
  {
   "cell_type": "code",
   "execution_count": 2,
   "id": "9e52b675-ce61-46a2-92f9-3a74c9896c5a",
   "metadata": {},
   "outputs": [],
   "source": [
    "jax.config.update(\"jax_enable_x64\", True)\n"
   ]
  },
  {
   "cell_type": "code",
   "execution_count": 3,
   "id": "2042cdcd-fe59-465e-abbe-91ca26349f2b",
   "metadata": {},
   "outputs": [],
   "source": [
    "#name1 = 'results_equinet_cnn_squares_1000_crps.h5'\n",
    "#name2 = 'results_equinet_cnn_squares_2000_crps.h5'\n",
    "#name3 = 'results_equinet_cnn_squares_4000_crps.h5'\n",
    "#name4 = 'results_equinet_cnn_squares_8000_crps.h5'\n",
    "#name5 = 'results_equinet_cnn_squares_16000_crps.h5'\n",
    "name = 'results_equinet_cnn_squares.h5'\n",
    "\n",
    "with h5py.File(f'{name}', 'r') as f:\n",
    "    eta_re = f['eta'][()]\n",
    "    eta_re_pred = f['eta_pred'][()]\n"
   ]
  },
  {
   "cell_type": "markdown",
   "id": "4204c1f9-3b40-4ad0-addc-61403a95b863",
   "metadata": {},
   "source": [
    "## RRMSE"
   ]
  },
  {
   "cell_type": "code",
   "execution_count": 5,
   "id": "14bb5ccf-d312-4a1a-8423-0c1a6e500e9a",
   "metadata": {},
   "outputs": [],
   "source": [
    "cond_samples_metric = eta_re_pred"
   ]
  },
  {
   "cell_type": "code",
   "execution_count": 7,
   "id": "a7dbdbc0-c20b-4a40-b8bf-91e494c3fc93",
   "metadata": {},
   "outputs": [],
   "source": [
    "MSE = np.zeros(cond_samples_metric.shape[0])\n",
    "for i in range(cond_samples_metric.shape[0]):\n",
    "    MSE[i] = np.linalg.norm(eta_re[i,:,:]-cond_samples_metric[i,0,:,:])/np.linalg.norm(eta_re[i,:,:])"
   ]
  },
  {
   "cell_type": "code",
   "execution_count": 8,
   "id": "a71ee4eb-c778-4977-8627-a13347378083",
   "metadata": {},
   "outputs": [
    {
     "name": "stdout",
     "output_type": "stream",
     "text": [
      "Mean of validation relative l2 error: 0.017200465539882553\n",
      "Median of validation relative l2 error: 0.009055773319286108\n",
      "Min of validation relative l2 error: 0.005048117424074934\n",
      "Max of validation relative l2 error: 0.09298317870554379\n",
      "Standard deviation of validation relative l2 errors: 0.01909906958707674\n"
     ]
    }
   ],
   "source": [
    "print('Mean of validation relative l2 error:', np.mean(MSE))\n",
    "print('Median of validation relative l2 error:', np.median(MSE))\n",
    "print('Min of validation relative l2 error:', np.min(MSE))\n",
    "print('Max of validation relative l2 error:', np.max(MSE))\n",
    "print('Standard deviation of validation relative l2 errors:', np.std(MSE))"
   ]
  },
  {
   "cell_type": "markdown",
   "id": "430721ec-df38-452d-85a3-32b422782bde",
   "metadata": {},
   "source": [
    "### For probabilistic"
   ]
  },
  {
   "cell_type": "code",
   "execution_count": 9,
   "id": "9afd6390-7117-43bf-b9d0-b66af6df7dec",
   "metadata": {},
   "outputs": [],
   "source": [
    "cond_samples_metric = np.swapaxes(np.swapaxes(eta_re_pred[:,:,:,:,0],1,2),2,3)"
   ]
  },
  {
   "cell_type": "code",
   "execution_count": 10,
   "id": "8362b86d-ff72-447c-898a-a828bb3e6d69",
   "metadata": {},
   "outputs": [],
   "source": [
    "MSE = np.zeros((cond_samples_metric.shape[0],cond_samples_metric.shape[-1]))\n",
    "\n",
    "for i in range(cond_samples_metric.shape[0]):\n",
    "    for j in range(cond_samples_metric.shape[-1]):\n",
    "        MSE[i,j] = np.linalg.norm(eta_re[i,:,:,0]-cond_samples_metric[i,:,:,j])/np.linalg.norm(eta_re[i,:,:,0])\n"
   ]
  },
  {
   "cell_type": "code",
   "execution_count": 11,
   "id": "3f8ed213-db38-4ec4-9c95-c126b3a493fa",
   "metadata": {},
   "outputs": [
    {
     "name": "stdout",
     "output_type": "stream",
     "text": [
      "Mean of validation relative l2 error: 0.017441053943523816\n",
      "Median of validation relative l2 error: 0.008988638466762119\n",
      "Min of validation relative l2 error: 0.004793373108378484\n",
      "Max of validation relative l2 error: 0.11489494693466881\n",
      "Standard deviation of validation relative l2 errors: 0.019381169819276747\n"
     ]
    }
   ],
   "source": [
    "print('Mean of validation relative l2 error:', np.mean(MSE))\n",
    "print('Median of validation relative l2 error:', np.median(MSE))\n",
    "print('Min of validation relative l2 error:', np.min(MSE))\n",
    "print('Max of validation relative l2 error:', np.max(MSE))\n",
    "print('Standard deviation of validation relative l2 errors:', np.std(MSE))"
   ]
  },
  {
   "cell_type": "markdown",
   "id": "f70320bb-7b22-4718-a78c-a091f884d6cb",
   "metadata": {},
   "source": [
    "## CRPS\n",
    "\n",
    "### For probabilistic"
   ]
  },
  {
   "cell_type": "code",
   "execution_count": 12,
   "id": "224c08f9-618e-485a-998d-b6eb4495da99",
   "metadata": {},
   "outputs": [],
   "source": [
    "from swirl_dynamics.lib import metrics"
   ]
  },
  {
   "cell_type": "code",
   "execution_count": 13,
   "id": "c8f40db4-7246-43c6-a13f-8742f6dfbb9f",
   "metadata": {},
   "outputs": [],
   "source": [
    "cond_samples_metric = np.swapaxes(np.swapaxes(eta_re_pred[:,:,:,:,0],1,2),2,3)"
   ]
  },
  {
   "cell_type": "code",
   "execution_count": 14,
   "id": "26a30eaf-1f11-4f77-bb4d-50436c8fad0d",
   "metadata": {},
   "outputs": [],
   "source": [
    "crpss_1 = np.zeros((cond_samples_metric.shape[0],80,80))\n",
    "for i in range(cond_samples_metric.shape[0]):\n",
    "    crpss_1[i,:,:] = metrics.probabilistic_forecast.crps(cond_samples_metric[i,:,:,:], eta_re[i,:,:,0], ensemble_axis=-1)"
   ]
  },
  {
   "cell_type": "code",
   "execution_count": 15,
   "id": "fecefb4e-2c34-40d0-b390-4b5bc29d98e0",
   "metadata": {},
   "outputs": [],
   "source": [
    "# computing the \\ell^1 metric\n",
    "crpss_11 = np.zeros(cond_samples_metric.shape[0])\n",
    "for i in range(cond_samples_metric.shape[0]):\n",
    "    crpss_11[i] = np.sum(np.abs(crpss_1[i,:,:]))/(80*80)"
   ]
  },
  {
   "cell_type": "code",
   "execution_count": 16,
   "id": "2f5ebcbf-d867-44e1-b851-e69e10c2d4b3",
   "metadata": {
    "scrolled": true
   },
   "outputs": [
    {
     "name": "stdout",
     "output_type": "stream",
     "text": [
      "3.9164176288078565\n"
     ]
    }
   ],
   "source": [
    "print(np.mean(crpss_11)*10**4)"
   ]
  },
  {
   "cell_type": "markdown",
   "id": "4a186377-bdb1-4a95-be36-79d3f6b22554",
   "metadata": {},
   "source": [
    "## Energy Spectrum"
   ]
  },
  {
   "cell_type": "code",
   "execution_count": 17,
   "id": "0f2f54c2-97e6-4805-ba11-998258d339d3",
   "metadata": {},
   "outputs": [
    {
     "name": "stdout",
     "output_type": "stream",
     "text": [
      "Pysteps configuration file found at: /grad/bzhang388/anaconda3/envs/jaxflax/lib/python3.11/site-packages/pysteps/pystepsrc\n",
      "\n"
     ]
    }
   ],
   "source": [
    "from pysteps.utils.spectral import rapsd"
   ]
  },
  {
   "cell_type": "code",
   "execution_count": 18,
   "id": "9cda626f-325b-40e9-baa2-4c7c4b936b4b",
   "metadata": {},
   "outputs": [],
   "source": [
    "cond_samples_metric = eta_re_pred[:,0,:,:,0]"
   ]
  },
  {
   "cell_type": "code",
   "execution_count": 19,
   "id": "c7f3d836-3a0d-4641-a7b6-954f31f33dee",
   "metadata": {},
   "outputs": [],
   "source": [
    "rapsds_ref = np.zeros((eta_re.shape[0], 40))\n",
    "rapsds = np.zeros((eta_re.shape[0],40))\n",
    "rapsds_error_ = np.zeros(eta_re.shape[0])\n",
    "for i in range(eta_re.shape[0]):\n",
    "    rapsds_ref[i,:] = rapsd(eta_re[i,:,:,0],fft_method=np.fft)\n",
    "    rapsds[i,:] = rapsd(cond_samples_metric[i,:,:],fft_method=np.fft)"
   ]
  },
  {
   "cell_type": "code",
   "execution_count": 20,
   "id": "73ec396d-f615-4955-b49e-6b7c9e16fd68",
   "metadata": {},
   "outputs": [],
   "source": [
    "rapsds_error_ = np.abs(np.log(rapsds/rapsds_ref))"
   ]
  },
  {
   "cell_type": "code",
   "execution_count": 21,
   "id": "c3db7f66-61c4-4b19-b4f2-68ea3616ecb4",
   "metadata": {},
   "outputs": [
    {
     "name": "stdout",
     "output_type": "stream",
     "text": [
      "radially averaged power spectrum 1.9212547201809513\n"
     ]
    }
   ],
   "source": [
    "print('radially averaged power spectrum', np.mean(rapsds_error_)*100)"
   ]
  },
  {
   "cell_type": "markdown",
   "id": "e995b4a3-5fe8-456c-8c19-fb2767760c3f",
   "metadata": {},
   "source": [
    "### For probabilistic"
   ]
  },
  {
   "cell_type": "code",
   "execution_count": 22,
   "id": "4444205e-0d0d-4ec7-8226-07586b7941da",
   "metadata": {},
   "outputs": [],
   "source": [
    "cond_samples_metric = np.swapaxes(np.swapaxes(eta_re_pred[:,:,:,:,0],1,2),2,3)"
   ]
  },
  {
   "cell_type": "code",
   "execution_count": 23,
   "id": "63e22bce-e776-4aa5-8d19-62bc1e8f5dbf",
   "metadata": {},
   "outputs": [],
   "source": [
    "rapsds = np.zeros((cond_samples_metric.shape[0], cond_samples_metric.shape[-1], 40))\n",
    "rapsds_ref = np.zeros((cond_samples_metric.shape[0],40))\n",
    "rapsds_mean = np.zeros((cond_samples_metric.shape[0],40))\n",
    "for i in range(cond_samples_metric.shape[0]):\n",
    "    rapsds_ref[i,:] = rapsd(eta_re[i,:,:,0],fft_method=np.fft)\n",
    "    for j in range(cond_samples_metric.shape[-1]):\n",
    "        rapsds[i,j,:] = rapsd(cond_samples_metric[i,:,:,j],fft_method=np.fft)"
   ]
  },
  {
   "cell_type": "code",
   "execution_count": 39,
   "id": "890e5976-3388-41e9-8a17-a62ad5625cc0",
   "metadata": {},
   "outputs": [],
   "source": [
    "rapsds_error_ = np.array([np.mean(np.abs(np.log(rapsds[:,i,:]) - np.log(rapsds_ref)),axis=1) for i in range(50)])"
   ]
  },
  {
   "cell_type": "code",
   "execution_count": 40,
   "id": "32b7ec8d-9f5b-4708-9c75-8eccc210e0dc",
   "metadata": {},
   "outputs": [
    {
     "name": "stdout",
     "output_type": "stream",
     "text": [
      "1.979019942466451\n"
     ]
    }
   ],
   "source": [
    "print(np.mean(rapsds_error_)*100)"
   ]
  },
  {
   "cell_type": "markdown",
   "id": "385f110f-35c7-4e7f-a534-3a70e497f2c4",
   "metadata": {},
   "source": [
    "## Sinkhorn"
   ]
  },
  {
   "cell_type": "code",
   "execution_count": 26,
   "id": "9e0cd379-ef50-4990-a408-c6340223cb9b",
   "metadata": {},
   "outputs": [],
   "source": [
    "import ott\n",
    "\n",
    "from ott import problems\n",
    "from ott.geometry import costs, pointcloud\n",
    "from ott.solvers import linear\n",
    "from ott.problems.linear import linear_problem\n",
    "from ott.solvers.linear import acceleration, sinkhorn\n",
    "from ott.tools.sinkhorn_divergence import sinkhorn_divergence"
   ]
  },
  {
   "cell_type": "code",
   "execution_count": 27,
   "id": "cbc5c5e3-888c-4b84-8d04-7985d8c57a8e",
   "metadata": {},
   "outputs": [
    {
     "data": {
      "text/plain": [
       "(500, 50, 80, 80, 1)"
      ]
     },
     "execution_count": 27,
     "metadata": {},
     "output_type": "execute_result"
    }
   ],
   "source": [
    "eta_re_pred.shape"
   ]
  },
  {
   "cell_type": "code",
   "execution_count": 34,
   "id": "0d1e7980-5af0-4192-9e11-aa695f525bf0",
   "metadata": {},
   "outputs": [
    {
     "data": {
      "text/plain": [
       "(500, 80, 80, 1)"
      ]
     },
     "execution_count": 34,
     "metadata": {},
     "output_type": "execute_result"
    }
   ],
   "source": [
    "eta_re.shape"
   ]
  },
  {
   "cell_type": "code",
   "execution_count": 35,
   "id": "9d01a27b-9a42-4d41-aba4-c22bc53a414b",
   "metadata": {},
   "outputs": [],
   "source": [
    "pred = eta_re_pred[:,0,:,:,:]"
   ]
  },
  {
   "cell_type": "code",
   "execution_count": 36,
   "id": "0034c2df-b6a3-4532-bd47-194a6790f86d",
   "metadata": {},
   "outputs": [],
   "source": [
    "samples_pred = pred.reshape(500,6400)\n",
    "samples_true = eta_re.reshape(500,6400)"
   ]
  },
  {
   "cell_type": "code",
   "execution_count": 37,
   "id": "8e02e636-f41f-40b3-bbbb-83e65ad54204",
   "metadata": {},
   "outputs": [],
   "source": [
    "solver = sinkhorn.Sinkhorn()\n",
    "geom = pointcloud.PointCloud(samples_pred, samples_true, cost_fn=costs.Euclidean())\n",
    "ot_prob_test = linear_problem.LinearProblem(geom)\n",
    "ot = solver(ot_prob_test)"
   ]
  },
  {
   "cell_type": "code",
   "execution_count": 38,
   "id": "d617ac6d-da11-49b4-b2b0-458c6709dfd4",
   "metadata": {},
   "outputs": [
    {
     "name": "stdout",
     "output_type": "stream",
     "text": [
      "testing 3.860173790392494\n"
     ]
    }
   ],
   "source": [
    "print('testing', ot.reg_ot_cost)"
   ]
  },
  {
   "cell_type": "code",
   "execution_count": 33,
   "id": "d3ab0dbe-e185-427d-8128-008387619bb1",
   "metadata": {},
   "outputs": [
    {
     "data": {
      "text/plain": [
       "dtype('float64')"
      ]
     },
     "execution_count": 33,
     "metadata": {},
     "output_type": "execute_result"
    }
   ],
   "source": [
    "ot.reg_ot_cost.dtype"
   ]
  },
  {
   "cell_type": "code",
   "execution_count": null,
   "id": "b2394df2-0d50-4098-a901-f2cf23133da3",
   "metadata": {},
   "outputs": [],
   "source": []
  },
  {
   "cell_type": "code",
   "execution_count": null,
   "id": "3a6e252f-7393-4127-bbcb-e9a1a1874d4c",
   "metadata": {},
   "outputs": [],
   "source": []
  },
  {
   "cell_type": "code",
   "execution_count": null,
   "id": "535fc657-0380-4180-a2a1-a88322f6acdf",
   "metadata": {},
   "outputs": [],
   "source": []
  },
  {
   "cell_type": "code",
   "execution_count": null,
   "id": "517fac64-11aa-4b33-a453-97b8b8fa7031",
   "metadata": {},
   "outputs": [],
   "source": []
  },
  {
   "cell_type": "code",
   "execution_count": null,
   "id": "de87ed3f-833e-4dfa-b682-11f1aba74b40",
   "metadata": {},
   "outputs": [],
   "source": []
  },
  {
   "cell_type": "code",
   "execution_count": null,
   "id": "c51c1e87-151b-44a2-84c5-b47e220348cc",
   "metadata": {},
   "outputs": [],
   "source": []
  }
 ],
 "metadata": {
  "kernelspec": {
   "display_name": "Python 3 (ipykernel)",
   "language": "python",
   "name": "python3"
  },
  "language_info": {
   "codemirror_mode": {
    "name": "ipython",
    "version": 3
   },
   "file_extension": ".py",
   "mimetype": "text/x-python",
   "name": "python",
   "nbconvert_exporter": "python",
   "pygments_lexer": "ipython3",
   "version": "3.11.7"
  }
 },
 "nbformat": 4,
 "nbformat_minor": 5
}
